{
 "cells": [
  {
   "cell_type": "code",
   "execution_count": 1,
   "metadata": {
    "collapsed": true
   },
   "outputs": [],
   "source": [
    "import pandas as pd\n",
    "import numpy as np\n",
    "from wordler import *\n",
    "import os\n",
    "import matplotlib.pyplot as plt\n",
    "import pickle as pkl\n",
    "from english_words import english_words_set"
   ]
  },
  {
   "cell_type": "code",
   "execution_count": 2,
   "outputs": [],
   "source": [
    "datadir = \"../data/maildir/\"\n",
    "\n",
    "ppl = os.listdir(datadir)"
   ],
   "metadata": {
    "collapsed": false,
    "pycharm": {
     "name": "#%%\n"
    }
   }
  },
  {
   "cell_type": "code",
   "execution_count": 3,
   "outputs": [
    {
     "name": "stdout",
     "output_type": "stream",
     "text": [
      "41626  files found\n"
     ]
    }
   ],
   "source": [
    "#get good filenames\n",
    "goodPaths = []\n",
    "for p in ppl:\n",
    "    try:\n",
    "        files = os.listdir(datadir + p + \"/inbox/\")\n",
    "        goodPaths += [datadir + p + \"/inbox/\" + x for x in files]\n",
    "    except:\n",
    "        pass\n",
    "print(len(goodPaths),\" files found\")"
   ],
   "metadata": {
    "collapsed": false,
    "pycharm": {
     "name": "#%%\n"
    }
   }
  },
  {
   "cell_type": "code",
   "execution_count": 4,
   "outputs": [
    {
     "name": "stdout",
     "output_type": "stream",
     "text": [
      "41492  files read\n"
     ]
    }
   ],
   "source": [
    "data = []\n",
    "for file in goodPaths:\n",
    "    try:\n",
    "        tmp = open(file,\"r\").readlines()\n",
    "        data.append(tmp)\n",
    "    except:\n",
    "        pass\n",
    "print(len(data), \" files read\")"
   ],
   "metadata": {
    "collapsed": false,
    "pycharm": {
     "name": "#%%\n"
    }
   }
  },
  {
   "cell_type": "code",
   "execution_count": 5,
   "outputs": [
    {
     "name": "stdout",
     "output_type": "stream",
     "text": [
      "5956292 total words processed\n"
     ]
    }
   ],
   "source": [
    "def cleanWord(word):\n",
    "    return all(x.isalpha() for x in word) and word in english_words_set\n",
    "\n",
    "\n",
    "def fileReader(file):\n",
    "    inMessage = False\n",
    "    inHeader = False\n",
    "    processed = []\n",
    "    for x in file:\n",
    "        tmp = x.rstrip()\n",
    "        if len(tmp) > 0:\n",
    "            if tmp[0] == \"X\":\n",
    "                inHeader = True\n",
    "            elif inHeader:\n",
    "                inMessage = True\n",
    "            if inMessage:\n",
    "                processed += [encoder(y) for y in tmp.split() if cleanWord(y)]\n",
    "    return processed\n",
    "\n",
    "processedData = []\n",
    "for x in data:\n",
    "    processedData += fileReader(x)\n",
    "\n",
    "print(len(processedData),\"total words processed\")\n"
   ],
   "metadata": {
    "collapsed": false,
    "pycharm": {
     "name": "#%%\n"
    }
   }
  },
  {
   "cell_type": "code",
   "execution_count": 6,
   "outputs": [
    {
     "name": "stdout",
     "output_type": "stream",
     "text": [
      "13583 unique words found\n"
     ]
    }
   ],
   "source": [
    "uniqueWords = list(set(processedData))\n",
    "print(len(uniqueWords),\"unique words found\")"
   ],
   "metadata": {
    "collapsed": false,
    "pycharm": {
     "name": "#%%\n"
    }
   }
  },
  {
   "cell_type": "code",
   "execution_count": 10,
   "outputs": [
    {
     "name": "stdout",
     "output_type": "stream",
     "text": [
      "3194 unique 5-letter words found\n"
     ]
    }
   ],
   "source": [
    "#filter to 5 letter words\n",
    "\n",
    "processedData = [x for x in processedData if len(x) == 5]\n",
    "uniqueWords = [encoder(x) for x in english_words_set if len(x) == 5 and cleanWord(x)]\n",
    "\n",
    "print(len(uniqueWords),\"unique 5-letter words found\")"
   ],
   "metadata": {
    "collapsed": false,
    "pycharm": {
     "name": "#%%\n"
    }
   }
  },
  {
   "cell_type": "code",
   "execution_count": 11,
   "outputs": [
    {
     "data": {
      "text/plain": "<Figure size 432x288 with 1 Axes>",
      "image/png": "[encoded data removed]"
     },
     "metadata": {
      "needs_background": "light"
     },
     "output_type": "display_data"
    },
    {
     "data": {
      "text/plain": "<Figure size 432x288 with 1 Axes>",
      "image/png": "[encoded data removed]"
     },
     "metadata": {
      "needs_background": "light"
     },
     "output_type": "display_data"
    }
   ],
   "source": [
    "wordCounts = {word:0 for word in uniqueWords}\n",
    "letterCounts = {l:0 for l in list(ENCODING.values())}\n",
    "\n",
    "for word in processedData:\n",
    "    wordCounts[word] += 1\n",
    "    for letter in word:\n",
    "        letterCounts[letter] += 1\n",
    "\n",
    "plt.hist(list(letterCounts.values()))\n",
    "plt.xlabel(\"letter counts\")\n",
    "plt.figure()\n",
    "plt.hist(list(wordCounts.values()))\n",
    "plt.xlabel(\"word counts\")\n",
    "\n",
    "wordCounts = {key:value for key,value in wordCounts.items() if value > -1}"
   ],
   "metadata": {
    "collapsed": false,
    "pycharm": {
     "name": "#%%\n"
    }
   }
  },
  {
   "cell_type": "code",
   "execution_count": 12,
   "outputs": [
    {
     "name": "stdout",
     "output_type": "stream",
     "text": [
      "3194 unique words kept\n"
     ]
    }
   ],
   "source": [
    "print(len(wordCounts),\"unique words kept\")"
   ],
   "metadata": {
    "collapsed": false,
    "pycharm": {
     "name": "#%%\n"
    }
   }
  },
  {
   "cell_type": "code",
   "execution_count": 13,
   "outputs": [],
   "source": [
    "pkl.dump([wordCounts,letterCounts],open(\"../data/model.pkl\",\"wb\"))\n"
   ],
   "metadata": {
    "collapsed": false,
    "pycharm": {
     "name": "#%%\n"
    }
   }
  },
  {
   "cell_type": "code",
   "execution_count": null,
   "outputs": [],
   "source": [],
   "metadata": {
    "collapsed": false,
    "pycharm": {
     "name": "#%%\n"
    }
   }
  }
 ],
 "metadata": {
  "kernelspec": {
   "display_name": "Python 3",
   "language": "python",
   "name": "python3"
  },
  "language_info": {
   "codemirror_mode": {
    "name": "ipython",
    "version": 2
   },
   "file_extension": ".py",
   "mimetype": "text/x-python",
   "name": "python",
   "nbconvert_exporter": "python",
   "pygments_lexer": "ipython2",
   "version": "2.7.6"
  }
 },
 "nbformat": 4,
 "nbformat_minor": 0
}